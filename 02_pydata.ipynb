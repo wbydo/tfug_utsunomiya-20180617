{
 "cells": [
  {
   "cell_type": "code",
   "execution_count": 10,
   "metadata": {},
   "outputs": [],
   "source": [
    "import pandas as pd\n",
    "from matplotlib import pyplot as plt\n",
    "\n",
    "from IPython.display import display\n",
    "\n",
    "pd.options.display.max_rows = 10"
   ]
  },
  {
   "cell_type": "code",
   "execution_count": 11,
   "metadata": {
    "scrolled": false
   },
   "outputs": [
    {
     "data": {
      "text/html": [
       "<div>\n",
       "<style scoped>\n",
       "    .dataframe tbody tr th:only-of-type {\n",
       "        vertical-align: middle;\n",
       "    }\n",
       "\n",
       "    .dataframe tbody tr th {\n",
       "        vertical-align: top;\n",
       "    }\n",
       "\n",
       "    .dataframe thead th {\n",
       "        text-align: right;\n",
       "    }\n",
       "</style>\n",
       "<table border=\"1\" class=\"dataframe\">\n",
       "  <thead>\n",
       "    <tr style=\"text-align: right;\">\n",
       "      <th></th>\n",
       "      <th>Team</th>\n",
       "      <th>Group</th>\n",
       "      <th>Squad Number</th>\n",
       "      <th>Position</th>\n",
       "      <th>Player</th>\n",
       "      <th>Date Of Birth</th>\n",
       "      <th>Age</th>\n",
       "      <th>Caps</th>\n",
       "      <th>Goals</th>\n",
       "      <th>Club</th>\n",
       "      <th>Player Count</th>\n",
       "    </tr>\n",
       "  </thead>\n",
       "  <tbody>\n",
       "    <tr>\n",
       "      <th>0</th>\n",
       "      <td>Egypt</td>\n",
       "      <td>A</td>\n",
       "      <td>1</td>\n",
       "      <td>GK</td>\n",
       "      <td>Essam El-Hadary (captain)</td>\n",
       "      <td>1973/01/15</td>\n",
       "      <td>45</td>\n",
       "      <td>157</td>\n",
       "      <td>0</td>\n",
       "      <td>Al-Taawoun</td>\n",
       "      <td>1</td>\n",
       "    </tr>\n",
       "    <tr>\n",
       "      <th>1</th>\n",
       "      <td>Egypt</td>\n",
       "      <td>A</td>\n",
       "      <td>2</td>\n",
       "      <td>DF</td>\n",
       "      <td>Ali Gabr</td>\n",
       "      <td>1989/01/01</td>\n",
       "      <td>29</td>\n",
       "      <td>20</td>\n",
       "      <td>1</td>\n",
       "      <td>West Bromwich Albion</td>\n",
       "      <td>1</td>\n",
       "    </tr>\n",
       "    <tr>\n",
       "      <th>2</th>\n",
       "      <td>Egypt</td>\n",
       "      <td>A</td>\n",
       "      <td>3</td>\n",
       "      <td>DF</td>\n",
       "      <td>Ahmed Elmohamady</td>\n",
       "      <td>1987/09/09</td>\n",
       "      <td>30</td>\n",
       "      <td>77</td>\n",
       "      <td>2</td>\n",
       "      <td>Aston Villa</td>\n",
       "      <td>1</td>\n",
       "    </tr>\n",
       "    <tr>\n",
       "      <th>3</th>\n",
       "      <td>Egypt</td>\n",
       "      <td>A</td>\n",
       "      <td>4</td>\n",
       "      <td>MF</td>\n",
       "      <td>Omar Gaber</td>\n",
       "      <td>1992/01/30</td>\n",
       "      <td>26</td>\n",
       "      <td>23</td>\n",
       "      <td>0</td>\n",
       "      <td>Los Angeles FC</td>\n",
       "      <td>1</td>\n",
       "    </tr>\n",
       "    <tr>\n",
       "      <th>4</th>\n",
       "      <td>Egypt</td>\n",
       "      <td>A</td>\n",
       "      <td>5</td>\n",
       "      <td>MF</td>\n",
       "      <td>Sam Morsy</td>\n",
       "      <td>1991/09/10</td>\n",
       "      <td>26</td>\n",
       "      <td>4</td>\n",
       "      <td>0</td>\n",
       "      <td>Wigan Athletic</td>\n",
       "      <td>1</td>\n",
       "    </tr>\n",
       "    <tr>\n",
       "      <th>...</th>\n",
       "      <td>...</td>\n",
       "      <td>...</td>\n",
       "      <td>...</td>\n",
       "      <td>...</td>\n",
       "      <td>...</td>\n",
       "      <td>...</td>\n",
       "      <td>...</td>\n",
       "      <td>...</td>\n",
       "      <td>...</td>\n",
       "      <td>...</td>\n",
       "      <td>...</td>\n",
       "    </tr>\n",
       "    <tr>\n",
       "      <th>731</th>\n",
       "      <td>Senegal</td>\n",
       "      <td>H</td>\n",
       "      <td>19</td>\n",
       "      <td>FW</td>\n",
       "      <td>M'Baye Niang</td>\n",
       "      <td>1994/12/19</td>\n",
       "      <td>23</td>\n",
       "      <td>5</td>\n",
       "      <td>0</td>\n",
       "      <td>Torino</td>\n",
       "      <td>1</td>\n",
       "    </tr>\n",
       "    <tr>\n",
       "      <th>732</th>\n",
       "      <td>Senegal</td>\n",
       "      <td>H</td>\n",
       "      <td>20</td>\n",
       "      <td>FW</td>\n",
       "      <td>Keita Baldé</td>\n",
       "      <td>1995/03/08</td>\n",
       "      <td>23</td>\n",
       "      <td>17</td>\n",
       "      <td>3</td>\n",
       "      <td>Monaco</td>\n",
       "      <td>1</td>\n",
       "    </tr>\n",
       "    <tr>\n",
       "      <th>733</th>\n",
       "      <td>Senegal</td>\n",
       "      <td>H</td>\n",
       "      <td>21</td>\n",
       "      <td>DF</td>\n",
       "      <td>Lamine Gassama</td>\n",
       "      <td>1989/10/20</td>\n",
       "      <td>28</td>\n",
       "      <td>35</td>\n",
       "      <td>0</td>\n",
       "      <td>Alanyaspor</td>\n",
       "      <td>1</td>\n",
       "    </tr>\n",
       "    <tr>\n",
       "      <th>734</th>\n",
       "      <td>Senegal</td>\n",
       "      <td>H</td>\n",
       "      <td>22</td>\n",
       "      <td>DF</td>\n",
       "      <td>Moussa Wagué</td>\n",
       "      <td>1998/10/04</td>\n",
       "      <td>19</td>\n",
       "      <td>9</td>\n",
       "      <td>0</td>\n",
       "      <td>Eupen</td>\n",
       "      <td>1</td>\n",
       "    </tr>\n",
       "    <tr>\n",
       "      <th>735</th>\n",
       "      <td>Senegal</td>\n",
       "      <td>H</td>\n",
       "      <td>23</td>\n",
       "      <td>GK</td>\n",
       "      <td>Alfred Gomis</td>\n",
       "      <td>1993/09/05</td>\n",
       "      <td>24</td>\n",
       "      <td>1</td>\n",
       "      <td>0</td>\n",
       "      <td>SPAL</td>\n",
       "      <td>1</td>\n",
       "    </tr>\n",
       "  </tbody>\n",
       "</table>\n",
       "<p>736 rows × 11 columns</p>\n",
       "</div>"
      ],
      "text/plain": [
       "        Team Group  Squad Number Position                     Player  \\\n",
       "0      Egypt     A             1       GK  Essam El-Hadary (captain)   \n",
       "1      Egypt     A             2       DF                   Ali Gabr   \n",
       "2      Egypt     A             3       DF           Ahmed Elmohamady   \n",
       "3      Egypt     A             4       MF                 Omar Gaber   \n",
       "4      Egypt     A             5       MF                  Sam Morsy   \n",
       "..       ...   ...           ...      ...                        ...   \n",
       "731  Senegal     H            19       FW               M'Baye Niang   \n",
       "732  Senegal     H            20       FW                Keita Baldé   \n",
       "733  Senegal     H            21       DF             Lamine Gassama   \n",
       "734  Senegal     H            22       DF               Moussa Wagué   \n",
       "735  Senegal     H            23       GK               Alfred Gomis   \n",
       "\n",
       "    Date Of Birth  Age  Caps  Goals                  Club  Player Count  \n",
       "0      1973/01/15   45   157      0            Al-Taawoun             1  \n",
       "1      1989/01/01   29    20      1  West Bromwich Albion             1  \n",
       "2      1987/09/09   30    77      2           Aston Villa             1  \n",
       "3      1992/01/30   26    23      0        Los Angeles FC             1  \n",
       "4      1991/09/10   26     4      0        Wigan Athletic             1  \n",
       "..            ...  ...   ...    ...                   ...           ...  \n",
       "731    1994/12/19   23     5      0                Torino             1  \n",
       "732    1995/03/08   23    17      3                Monaco             1  \n",
       "733    1989/10/20   28    35      0            Alanyaspor             1  \n",
       "734    1998/10/04   19     9      0                 Eupen             1  \n",
       "735    1993/09/05   24     1      0                  SPAL             1  \n",
       "\n",
       "[736 rows x 11 columns]"
      ]
     },
     "execution_count": 11,
     "metadata": {},
     "output_type": "execute_result"
    }
   ],
   "source": [
    "data = pd.read_csv('lib/2018 FIFA World Cup Squads.csv')\n",
    "data"
   ]
  },
  {
   "cell_type": "code",
   "execution_count": 12,
   "metadata": {},
   "outputs": [
    {
     "name": "stdout",
     "output_type": "stream",
     "text": [
      "Eiji Kawashima\n",
      "Naomichi Ueda\n",
      "Gen Shoji\n",
      "Keisuke Honda\n",
      "Yuto Nagatomo\n",
      "Wataru Endo\n",
      "Gaku Shibasaki\n",
      "Genki Haraguchi\n",
      "Shinji Okazaki\n",
      "Shinji Kagawa\n",
      "Takashi Usami\n",
      "Masaaki Higashiguchi\n",
      "Yoshinori Mutō\n",
      "Takashi Inui\n",
      "Yuya Osako\n",
      "Hotaru Yamaguchi\n",
      "Makoto Hasebe (captain)\n",
      "Ryota Oshima\n",
      "Hiroki Sakai\n",
      "Tomoaki Makino\n",
      "Gōtoku Sakai\n",
      "Maya Yoshida\n",
      "Kosuke Nakamura\n"
     ]
    }
   ],
   "source": [
    "#練習1\n",
    "\n",
    "bools = data['Team'] == 'Japan'\n",
    "for name in data[bools]['Player']:\n",
    "    print(name)"
   ]
  },
  {
   "cell_type": "code",
   "execution_count": 13,
   "metadata": {},
   "outputs": [
    {
     "name": "stdout",
     "output_type": "stream",
     "text": [
      "Team: Portugal\n",
      "Player: Cristiano Ronaldo (captain)\n"
     ]
    }
   ],
   "source": [
    "# 練習2\n",
    "\n",
    "idx = data['Goals'].idxmax()\n",
    "row = data.iloc[idx]\n",
    "for cname in ['Team', 'Player']:\n",
    "    print(cname + ': ' + row[cname])"
   ]
  },
  {
   "cell_type": "code",
   "execution_count": 14,
   "metadata": {},
   "outputs": [
    {
     "data": {
      "text/plain": [
       "Team                         Portugal\n",
       "Player    Cristiano Ronaldo (captain)\n",
       "Name: 144, dtype: object"
      ]
     },
     "execution_count": 14,
     "metadata": {},
     "output_type": "execute_result"
    }
   ],
   "source": [
    "# これでもいけた！\n",
    "idx = data['Goals'].idxmax()\n",
    "data.iloc[idx][['Team', 'Player']]"
   ]
  },
  {
   "cell_type": "code",
   "execution_count": 15,
   "metadata": {
    "scrolled": true
   },
   "outputs": [
    {
     "data": {
      "text/plain": [
       "Manchester City        16\n",
       "Real Madrid            15\n",
       "Barcelona              14\n",
       "Paris Saint-Germain    12\n",
       "Tottenham Hotspur      12\n",
       "Name: Club, dtype: int64"
      ]
     },
     "execution_count": 15,
     "metadata": {},
     "output_type": "execute_result"
    }
   ],
   "source": [
    "# 練習3\n",
    "\n",
    "data['Club'].value_counts()[:5]"
   ]
  },
  {
   "cell_type": "code",
   "execution_count": 16,
   "metadata": {
    "scrolled": false
   },
   "outputs": [
    {
     "data": {
      "text/plain": [
       "<matplotlib.collections.PathCollection at 0x1097f6f28>"
      ]
     },
     "execution_count": 16,
     "metadata": {},
     "output_type": "execute_result"
    },
    {
     "data": {
      "image/png": "[encoded data removed]",
      "text/plain": [
       "<Figure size 576x576 with 1 Axes>"
      ]
     },
     "metadata": {},
     "output_type": "display_data"
    }
   ],
   "source": [
    "# 練習4\n",
    "\n",
    "fix, ax = plt.subplots(figsize=(8,8))\n",
    "ax.scatter(x=data['Caps'], y=data['Goals'])"
   ]
  },
  {
   "cell_type": "code",
   "execution_count": 17,
   "metadata": {
    "scrolled": false
   },
   "outputs": [
    {
     "data": {
      "text/plain": [
       "<matplotlib.axes._subplots.AxesSubplot at 0x1075775c0>"
      ]
     },
     "execution_count": 17,
     "metadata": {},
     "output_type": "execute_result"
    },
    {
     "data": {
      "image/png": "[encoded data removed]",
      "text/plain": [
       "<Figure size 432x792 with 1 Axes>"
      ]
     },
     "metadata": {},
     "output_type": "display_data"
    }
   ],
   "source": [
    "# オマケ\n",
    "\n",
    "import seaborn as sns\n",
    "\n",
    "fix, ax = plt.subplots(figsize=(6,11))\n",
    "sns.boxplot(x=\"Position\", y=\"Age\", data=data, ax=ax)"
   ]
  },
  {
   "cell_type": "code",
   "execution_count": null,
   "metadata": {},
   "outputs": [],
   "source": []
  }
 ],
 "metadata": {
  "kernelspec": {
   "display_name": "Python 3",
   "language": "python",
   "name": "python3"
  },
  "language_info": {
   "codemirror_mode": {
    "name": "ipython",
    "version": 3
   },
   "file_extension": ".py",
   "mimetype": "text/x-python",
   "name": "python",
   "nbconvert_exporter": "python",
   "pygments_lexer": "ipython3",
   "version": "3.6.2"
  }
 },
 "nbformat": 4,
 "nbformat_minor": 2
}
